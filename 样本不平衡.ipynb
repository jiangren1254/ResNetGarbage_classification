{
 "cells": [
  {
   "cell_type": "code",
   "execution_count": 9,
   "id": "9284ea0e",
   "metadata": {},
   "outputs": [
    {
     "name": "stdout",
     "output_type": "stream",
     "text": [
      "['玻璃瓶', '菜叶菜帮', '茶叶渣', '厨房废品', '大骨头', '刀片', '瓜果皮壳', '肉类', '剩菜剩饭', '鱼骨鱼刺']\n",
      "玻璃瓶 3296\n",
      "菜叶菜帮 2538\n",
      "茶叶渣 758\n",
      "厨房废品 1165\n",
      "大骨头 337\n",
      "刀片 276\n",
      "瓜果皮壳 1180\n",
      "肉类 2154\n",
      "剩菜剩饭 1208\n",
      "鱼骨鱼刺 288\n"
     ]
    }
   ],
   "source": [
    "import os\n",
    "from pypinyin import lazy_pinyin\n",
    "#读取\"./datasets/train\"下的所有文件名称和数量\n",
    "file_list = os.listdir(\"./datasets/train\")\n",
    "file_list_sorted = sorted(file_list, key=lambda x: lazy_pinyin(x))\n",
    "print(file_list_sorted)\n",
    "for i in file_list_sorted:\n",
    "    print(i,len(os.listdir(os.path.join(\"./datasets/train\",i))))"
   ]
  },
  {
   "cell_type": "code",
   "execution_count": null,
   "id": "baa1c6bd",
   "metadata": {},
   "outputs": [
    {
     "name": "stderr",
     "output_type": "stream",
     "text": [
      "划分数据集: 100%|██████████| 10/10 [00:48<00:00,  4.80s/it]\n"
     ]
    }
   ],
   "source": [
    "# import os\n",
    "# import shutil\n",
    "# import random\n",
    "# from tqdm import tqdm\n",
    "\n",
    "# # 设置随机种子保证可复现\n",
    "# random.seed(42)\n",
    "\n",
    "# # 原始数据集路径\n",
    "# origin_dir = './datasets/train_valid'\n",
    "# # 新的数据保存路径\n",
    "# train_dir = './datasets/train'\n",
    "# valid_dir = './datasets/valid'\n",
    "\n",
    "# # 创建目标目录\n",
    "# for path in [train_dir, valid_dir]:\n",
    "#     os.makedirs(path, exist_ok=True)\n",
    "\n",
    "# # 遍历每个类别\n",
    "# for class_name in tqdm(os.listdir(origin_dir), desc=\"划分数据集\"):\n",
    "#     class_path = os.path.join(origin_dir, class_name)\n",
    "#     if not os.path.isdir(class_path):\n",
    "#         continue\n",
    "\n",
    "#     # 获取所有图片路径\n",
    "#     imgs = os.listdir(class_path)\n",
    "#     random.shuffle(imgs)\n",
    "\n",
    "#     n_total = len(imgs)\n",
    "#     n_train = int(0.8 * n_total)\n",
    "\n",
    "#     train_imgs = imgs[:n_train]\n",
    "#     valid_imgs = imgs[n_train:]\n",
    "\n",
    "#     # 创建子目录\n",
    "#     os.makedirs(os.path.join(train_dir, class_name), exist_ok=True)\n",
    "#     os.makedirs(os.path.join(valid_dir, class_name), exist_ok=True)\n",
    "\n",
    "#     # 拷贝训练图片\n",
    "#     for img in train_imgs:\n",
    "#         shutil.copy(os.path.join(class_path, img),\n",
    "#                     os.path.join(train_dir, class_name, img))\n",
    "\n",
    "#     # 拷贝验证图片\n",
    "#     for img in valid_imgs:\n",
    "#         shutil.copy(os.path.join(class_path, img),\n",
    "#                     os.path.join(valid_dir, class_name, img))\n"
   ]
  }
 ],
 "metadata": {
  "kernelspec": {
   "display_name": "yolov8_2",
   "language": "python",
   "name": "python3"
  },
  "language_info": {
   "codemirror_mode": {
    "name": "ipython",
    "version": 3
   },
   "file_extension": ".py",
   "mimetype": "text/x-python",
   "name": "python",
   "nbconvert_exporter": "python",
   "pygments_lexer": "ipython3",
   "version": "3.8.19"
  }
 },
 "nbformat": 4,
 "nbformat_minor": 5
}
