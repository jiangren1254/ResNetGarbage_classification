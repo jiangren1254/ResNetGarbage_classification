{
 "cells": [
  {
   "cell_type": "code",
   "execution_count": null,
   "id": "9284ea0e",
   "metadata": {},
   "outputs": [
    {
     "name": "stdout",
     "output_type": "stream",
     "text": [
      "玻璃瓶 4120\n",
      "菜叶菜帮 3173\n",
      "茶叶渣 948\n",
      "厨房废品 1457\n",
      "大骨头 422\n",
      "刀片 345\n",
      "瓜果皮壳 1476\n",
      "肉类 2693\n",
      "剩菜剩饭 1510\n",
      "鱼骨鱼刺 360\n"
     ]
    }
   ],
   "source": [
    "# import os\n",
    "# from pypinyin import lazy_pinyin\n",
    "# #读取\"./datasets/train\"下的所有文件名称和数量\n",
    "# file_list = os.listdir(\"./datasets/train\")\n",
    "# file_list_sorted = sorted(file_list, key=lambda x: lazy_pinyin(x))\n",
    "# print(file_list_sorted)\n",
    "# for i in file_list_sorted:\n",
    "#     print(i,len(os.listdir(os.path.join(\"./datasets/train\",i))))"
   ]
  }
 ],
 "metadata": {
  "kernelspec": {
   "display_name": "yolov8_2",
   "language": "python",
   "name": "python3"
  },
  "language_info": {
   "codemirror_mode": {
    "name": "ipython",
    "version": 3
   },
   "file_extension": ".py",
   "mimetype": "text/x-python",
   "name": "python",
   "nbconvert_exporter": "python",
   "pygments_lexer": "ipython3",
   "version": "3.8.19"
  }
 },
 "nbformat": 4,
 "nbformat_minor": 5
}
